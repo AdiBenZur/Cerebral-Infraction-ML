{
 "cells": [
  {
   "cell_type": "code",
   "id": "initial_id",
   "metadata": {
    "collapsed": true,
    "ExecuteTime": {
     "end_time": "2024-08-26T13:28:02.532622Z",
     "start_time": "2024-08-26T13:28:02.522188Z"
    }
   },
   "source": [
    "import pandas as pd\n",
    "from tqdm import tqdm\n",
    "#from typing import re"
   ],
   "outputs": [],
   "execution_count": 1
  },
  {
   "metadata": {
    "ExecuteTime": {
     "end_time": "2024-08-26T13:28:05.398368Z",
     "start_time": "2024-08-26T13:28:05.393518Z"
    }
   },
   "cell_type": "code",
   "source": [
    "input_csv = r'../../biobank/ukb672220.csv'\n",
    "output_csv = r'filtered_output.csv'"
   ],
   "id": "733257eaf322ff1c",
   "outputs": [],
   "execution_count": 2
  },
  {
   "metadata": {
    "ExecuteTime": {
     "end_time": "2024-08-26T13:28:12.794461Z",
     "start_time": "2024-08-26T13:28:06.564139Z"
    }
   },
   "cell_type": "code",
   "source": [
    "df = pd.read_csv(input_csv, nrows = 0)\n",
    "len(df.columns)"
   ],
   "id": "dae436a226e09003",
   "outputs": [
    {
     "data": {
      "text/plain": [
       "18433"
      ]
     },
     "execution_count": 3,
     "metadata": {},
     "output_type": "execute_result"
    }
   ],
   "execution_count": 3
  },
  {
   "metadata": {
    "ExecuteTime": {
     "end_time": "2024-08-26T13:28:46.701270Z",
     "start_time": "2024-08-26T13:28:46.695289Z"
    }
   },
   "cell_type": "code",
   "source": [
    "df.columns"
   ],
   "id": "4614e9ba8bbf4875",
   "outputs": [
    {
     "data": {
      "text/plain": [
       "Index(['eid', '3-0.0', '3-1.0', '3-2.0', '3-3.0', '4-0.0', '4-1.0', '4-2.0',\n",
       "       '4-3.0', '5-0.0',\n",
       "       ...\n",
       "       '132596-0.0', '132597-0.0', '132598-0.0', '132599-0.0', '132600-0.0',\n",
       "       '132601-0.0', '132602-0.0', '132603-0.0', '132604-0.0', '132605-0.0'],\n",
       "      dtype='object', length=18433)"
      ]
     },
     "execution_count": 4,
     "metadata": {},
     "output_type": "execute_result"
    }
   ],
   "execution_count": 4
  },
  {
   "metadata": {
    "ExecuteTime": {
     "end_time": "2024-08-13T12:57:43.981683Z",
     "start_time": "2024-08-13T12:39:10.896082Z"
    }
   },
   "cell_type": "code",
   "source": [
    "#              [        , I63 First Date, Age Recruite  , Year Birth, Sex (Gender)  ]\n",
    "desired_cols = ['eid'   , '131366-0.0'  , '21022-0.0'   , '34-0.0'  , '31-0.0'      ]\n",
    "col_shoudnt_be_NaN = '131366-0.0'\n",
    "\n",
    "# Chunk processing and filtering\n",
    "chunksize = 1000\n",
    "filtered_chunks = []\n",
    "print(\"Starting\")\n",
    "\n",
    "for chunk in tqdm(pd.read_csv(input_csv, \n",
    "                              chunksize=chunksize, \n",
    "                              usecols=desired_cols, \n",
    "                              low_memory=False),\n",
    "                  desc='Processing', \n",
    "                  unit=' chunk'):\n",
    "    filtered_chunk = chunk[~chunk[col_shoudnt_be_NaN].isna()]\n",
    "    filtered_chunks.append(filtered_chunk)\n",
    "    del chunk, filtered_chunk\n",
    "\n",
    "filtered_df = pd.concat(filtered_chunks, ignore_index=True)\n",
    "\n",
    "filtered_df.to_csv(output_csv, index=False)\n",
    "\n",
    "del filtered_df, filtered_chunks"
   ],
   "id": "7bc953f0a1f5861a",
   "outputs": [
    {
     "name": "stdout",
     "output_type": "stream",
     "text": [
      "Starting\n"
     ]
    },
    {
     "name": "stderr",
     "output_type": "stream",
     "text": [
      "Processing: 503 chunk [18:32,  2.21s/ chunk]\n"
     ]
    }
   ],
   "execution_count": 4
  },
  {
   "metadata": {
    "ExecuteTime": {
     "end_time": "2024-08-13T12:58:35.262928Z",
     "start_time": "2024-08-13T12:58:35.217933Z"
    }
   },
   "cell_type": "code",
   "source": [
    "df = pd.read_csv(output_csv)\n",
    "df"
   ],
   "id": "2828b53337f96061",
   "outputs": [
    {
     "data": {
      "text/plain": [
       "           eid  31-0.0  34-0.0  21022-0.0  131366-0.0\n",
       "0      1000157       1  1945.0       63.0  2006-07-11\n",
       "1      1000658       0  1943.0       66.0  2011-11-24\n",
       "2      1002403       1  1943.0       64.0  1998-02-14\n",
       "3      1002542       1  1942.0       65.0  2018-04-20\n",
       "4      1002633       0  1946.0       63.0  2010-08-22\n",
       "...        ...     ...     ...        ...         ...\n",
       "10826  6021252       1  1943.0       65.0  2016-10-28\n",
       "10827  6021719       1  1952.0       55.0  2003-09-17\n",
       "10828  6021899       1  1957.0       52.0  2012-02-27\n",
       "10829  6023669       1  1957.0       52.0  2010-12-05\n",
       "10830  6023834       0  1939.0       68.0  2022-09-10\n",
       "\n",
       "[10831 rows x 5 columns]"
      ],
      "text/html": [
       "<div>\n",
       "<style scoped>\n",
       "    .dataframe tbody tr th:only-of-type {\n",
       "        vertical-align: middle;\n",
       "    }\n",
       "\n",
       "    .dataframe tbody tr th {\n",
       "        vertical-align: top;\n",
       "    }\n",
       "\n",
       "    .dataframe thead th {\n",
       "        text-align: right;\n",
       "    }\n",
       "</style>\n",
       "<table border=\"1\" class=\"dataframe\">\n",
       "  <thead>\n",
       "    <tr style=\"text-align: right;\">\n",
       "      <th></th>\n",
       "      <th>eid</th>\n",
       "      <th>31-0.0</th>\n",
       "      <th>34-0.0</th>\n",
       "      <th>21022-0.0</th>\n",
       "      <th>131366-0.0</th>\n",
       "    </tr>\n",
       "  </thead>\n",
       "  <tbody>\n",
       "    <tr>\n",
       "      <th>0</th>\n",
       "      <td>1000157</td>\n",
       "      <td>1</td>\n",
       "      <td>1945.0</td>\n",
       "      <td>63.0</td>\n",
       "      <td>2006-07-11</td>\n",
       "    </tr>\n",
       "    <tr>\n",
       "      <th>1</th>\n",
       "      <td>1000658</td>\n",
       "      <td>0</td>\n",
       "      <td>1943.0</td>\n",
       "      <td>66.0</td>\n",
       "      <td>2011-11-24</td>\n",
       "    </tr>\n",
       "    <tr>\n",
       "      <th>2</th>\n",
       "      <td>1002403</td>\n",
       "      <td>1</td>\n",
       "      <td>1943.0</td>\n",
       "      <td>64.0</td>\n",
       "      <td>1998-02-14</td>\n",
       "    </tr>\n",
       "    <tr>\n",
       "      <th>3</th>\n",
       "      <td>1002542</td>\n",
       "      <td>1</td>\n",
       "      <td>1942.0</td>\n",
       "      <td>65.0</td>\n",
       "      <td>2018-04-20</td>\n",
       "    </tr>\n",
       "    <tr>\n",
       "      <th>4</th>\n",
       "      <td>1002633</td>\n",
       "      <td>0</td>\n",
       "      <td>1946.0</td>\n",
       "      <td>63.0</td>\n",
       "      <td>2010-08-22</td>\n",
       "    </tr>\n",
       "    <tr>\n",
       "      <th>...</th>\n",
       "      <td>...</td>\n",
       "      <td>...</td>\n",
       "      <td>...</td>\n",
       "      <td>...</td>\n",
       "      <td>...</td>\n",
       "    </tr>\n",
       "    <tr>\n",
       "      <th>10826</th>\n",
       "      <td>6021252</td>\n",
       "      <td>1</td>\n",
       "      <td>1943.0</td>\n",
       "      <td>65.0</td>\n",
       "      <td>2016-10-28</td>\n",
       "    </tr>\n",
       "    <tr>\n",
       "      <th>10827</th>\n",
       "      <td>6021719</td>\n",
       "      <td>1</td>\n",
       "      <td>1952.0</td>\n",
       "      <td>55.0</td>\n",
       "      <td>2003-09-17</td>\n",
       "    </tr>\n",
       "    <tr>\n",
       "      <th>10828</th>\n",
       "      <td>6021899</td>\n",
       "      <td>1</td>\n",
       "      <td>1957.0</td>\n",
       "      <td>52.0</td>\n",
       "      <td>2012-02-27</td>\n",
       "    </tr>\n",
       "    <tr>\n",
       "      <th>10829</th>\n",
       "      <td>6023669</td>\n",
       "      <td>1</td>\n",
       "      <td>1957.0</td>\n",
       "      <td>52.0</td>\n",
       "      <td>2010-12-05</td>\n",
       "    </tr>\n",
       "    <tr>\n",
       "      <th>10830</th>\n",
       "      <td>6023834</td>\n",
       "      <td>0</td>\n",
       "      <td>1939.0</td>\n",
       "      <td>68.0</td>\n",
       "      <td>2022-09-10</td>\n",
       "    </tr>\n",
       "  </tbody>\n",
       "</table>\n",
       "<p>10831 rows × 5 columns</p>\n",
       "</div>"
      ]
     },
     "execution_count": 5,
     "metadata": {},
     "output_type": "execute_result"
    }
   ],
   "execution_count": 5
  },
  {
   "metadata": {
    "ExecuteTime": {
     "end_time": "2024-08-13T12:58:44.441356Z",
     "start_time": "2024-08-13T12:58:44.424748Z"
    }
   },
   "cell_type": "code",
   "source": [
    "def calculate_age_at_diag_cerebral_infraction(row):\n",
    "    birth_year = int(row['34-0.0'])  # Take the year of birth\n",
    "    date_of_diag_cerebral_infraction = pd.to_datetime(row['131366-0.0'])  # Using the field for date of Cerebral Infraction \n",
    "    age_at_diag_cerebral_infraction = date_of_diag_cerebral_infraction.year - birth_year\n",
    "    return age_at_diag_cerebral_infraction\n",
    "\n",
    "def check_if_diag_cerebral_infraction_before_recruit(row):\n",
    "    age_at_recruitment = row['21022-0.0']  # Age at recruitment\n",
    "    age_at_diag_cerebral_infraction = calculate_age_at_diag_cerebral_infraction(row)\n",
    "    is_diag_cerebral_infraction_before_recruit = age_at_diag_cerebral_infraction < age_at_recruitment\n",
    "    return is_diag_cerebral_infraction_before_recruit\n"
   ],
   "id": "aea9df702191ff50",
   "outputs": [],
   "execution_count": 6
  },
  {
   "metadata": {
    "ExecuteTime": {
     "end_time": "2024-08-13T12:59:00.194725Z",
     "start_time": "2024-08-13T12:58:51.287701Z"
    }
   },
   "cell_type": "code",
   "source": [
    "df['age_dci'] = df.apply(calculate_age_at_diag_cerebral_infraction, axis=1) #Column represent - Age(age_) diagnose(d) Cerebral(c) infraction(i)\n",
    "df['diag_ci_before_recruit'] = df.apply(check_if_diag_cerebral_infraction_before_recruit, axis=1)\n",
    "df"
   ],
   "id": "169ebc480bf7e978",
   "outputs": [
    {
     "data": {
      "text/plain": [
       "           eid  31-0.0  34-0.0  21022-0.0  131366-0.0  age_dci  \\\n",
       "0      1000157       1  1945.0       63.0  2006-07-11       61   \n",
       "1      1000658       0  1943.0       66.0  2011-11-24       68   \n",
       "2      1002403       1  1943.0       64.0  1998-02-14       55   \n",
       "3      1002542       1  1942.0       65.0  2018-04-20       76   \n",
       "4      1002633       0  1946.0       63.0  2010-08-22       64   \n",
       "...        ...     ...     ...        ...         ...      ...   \n",
       "10826  6021252       1  1943.0       65.0  2016-10-28       73   \n",
       "10827  6021719       1  1952.0       55.0  2003-09-17       51   \n",
       "10828  6021899       1  1957.0       52.0  2012-02-27       55   \n",
       "10829  6023669       1  1957.0       52.0  2010-12-05       53   \n",
       "10830  6023834       0  1939.0       68.0  2022-09-10       83   \n",
       "\n",
       "       diag_ci_before_recruit  \n",
       "0                        True  \n",
       "1                       False  \n",
       "2                        True  \n",
       "3                       False  \n",
       "4                       False  \n",
       "...                       ...  \n",
       "10826                   False  \n",
       "10827                    True  \n",
       "10828                   False  \n",
       "10829                   False  \n",
       "10830                   False  \n",
       "\n",
       "[10831 rows x 7 columns]"
      ],
      "text/html": [
       "<div>\n",
       "<style scoped>\n",
       "    .dataframe tbody tr th:only-of-type {\n",
       "        vertical-align: middle;\n",
       "    }\n",
       "\n",
       "    .dataframe tbody tr th {\n",
       "        vertical-align: top;\n",
       "    }\n",
       "\n",
       "    .dataframe thead th {\n",
       "        text-align: right;\n",
       "    }\n",
       "</style>\n",
       "<table border=\"1\" class=\"dataframe\">\n",
       "  <thead>\n",
       "    <tr style=\"text-align: right;\">\n",
       "      <th></th>\n",
       "      <th>eid</th>\n",
       "      <th>31-0.0</th>\n",
       "      <th>34-0.0</th>\n",
       "      <th>21022-0.0</th>\n",
       "      <th>131366-0.0</th>\n",
       "      <th>age_dci</th>\n",
       "      <th>diag_ci_before_recruit</th>\n",
       "    </tr>\n",
       "  </thead>\n",
       "  <tbody>\n",
       "    <tr>\n",
       "      <th>0</th>\n",
       "      <td>1000157</td>\n",
       "      <td>1</td>\n",
       "      <td>1945.0</td>\n",
       "      <td>63.0</td>\n",
       "      <td>2006-07-11</td>\n",
       "      <td>61</td>\n",
       "      <td>True</td>\n",
       "    </tr>\n",
       "    <tr>\n",
       "      <th>1</th>\n",
       "      <td>1000658</td>\n",
       "      <td>0</td>\n",
       "      <td>1943.0</td>\n",
       "      <td>66.0</td>\n",
       "      <td>2011-11-24</td>\n",
       "      <td>68</td>\n",
       "      <td>False</td>\n",
       "    </tr>\n",
       "    <tr>\n",
       "      <th>2</th>\n",
       "      <td>1002403</td>\n",
       "      <td>1</td>\n",
       "      <td>1943.0</td>\n",
       "      <td>64.0</td>\n",
       "      <td>1998-02-14</td>\n",
       "      <td>55</td>\n",
       "      <td>True</td>\n",
       "    </tr>\n",
       "    <tr>\n",
       "      <th>3</th>\n",
       "      <td>1002542</td>\n",
       "      <td>1</td>\n",
       "      <td>1942.0</td>\n",
       "      <td>65.0</td>\n",
       "      <td>2018-04-20</td>\n",
       "      <td>76</td>\n",
       "      <td>False</td>\n",
       "    </tr>\n",
       "    <tr>\n",
       "      <th>4</th>\n",
       "      <td>1002633</td>\n",
       "      <td>0</td>\n",
       "      <td>1946.0</td>\n",
       "      <td>63.0</td>\n",
       "      <td>2010-08-22</td>\n",
       "      <td>64</td>\n",
       "      <td>False</td>\n",
       "    </tr>\n",
       "    <tr>\n",
       "      <th>...</th>\n",
       "      <td>...</td>\n",
       "      <td>...</td>\n",
       "      <td>...</td>\n",
       "      <td>...</td>\n",
       "      <td>...</td>\n",
       "      <td>...</td>\n",
       "      <td>...</td>\n",
       "    </tr>\n",
       "    <tr>\n",
       "      <th>10826</th>\n",
       "      <td>6021252</td>\n",
       "      <td>1</td>\n",
       "      <td>1943.0</td>\n",
       "      <td>65.0</td>\n",
       "      <td>2016-10-28</td>\n",
       "      <td>73</td>\n",
       "      <td>False</td>\n",
       "    </tr>\n",
       "    <tr>\n",
       "      <th>10827</th>\n",
       "      <td>6021719</td>\n",
       "      <td>1</td>\n",
       "      <td>1952.0</td>\n",
       "      <td>55.0</td>\n",
       "      <td>2003-09-17</td>\n",
       "      <td>51</td>\n",
       "      <td>True</td>\n",
       "    </tr>\n",
       "    <tr>\n",
       "      <th>10828</th>\n",
       "      <td>6021899</td>\n",
       "      <td>1</td>\n",
       "      <td>1957.0</td>\n",
       "      <td>52.0</td>\n",
       "      <td>2012-02-27</td>\n",
       "      <td>55</td>\n",
       "      <td>False</td>\n",
       "    </tr>\n",
       "    <tr>\n",
       "      <th>10829</th>\n",
       "      <td>6023669</td>\n",
       "      <td>1</td>\n",
       "      <td>1957.0</td>\n",
       "      <td>52.0</td>\n",
       "      <td>2010-12-05</td>\n",
       "      <td>53</td>\n",
       "      <td>False</td>\n",
       "    </tr>\n",
       "    <tr>\n",
       "      <th>10830</th>\n",
       "      <td>6023834</td>\n",
       "      <td>0</td>\n",
       "      <td>1939.0</td>\n",
       "      <td>68.0</td>\n",
       "      <td>2022-09-10</td>\n",
       "      <td>83</td>\n",
       "      <td>False</td>\n",
       "    </tr>\n",
       "  </tbody>\n",
       "</table>\n",
       "<p>10831 rows × 7 columns</p>\n",
       "</div>"
      ]
     },
     "execution_count": 7,
     "metadata": {},
     "output_type": "execute_result"
    }
   ],
   "execution_count": 7
  },
  {
   "metadata": {
    "ExecuteTime": {
     "end_time": "2024-08-13T13:00:22.672892Z",
     "start_time": "2024-08-13T13:00:22.625239Z"
    }
   },
   "cell_type": "code",
   "source": [
    "df.to_csv('Cerebral Infraction Data.csv', index=False)"
   ],
   "id": "9cf2b379e9724e99",
   "outputs": [],
   "execution_count": 8
  },
  {
   "metadata": {
    "ExecuteTime": {
     "end_time": "2024-08-20T11:32:23.494803Z",
     "start_time": "2024-08-20T11:32:23.203624Z"
    }
   },
   "cell_type": "code",
   "source": [
    "df = pd.read_csv('Cerebral Infraction Data.csv')\n",
    "df"
   ],
   "id": "7f198fad47e1b1e3",
   "outputs": [
    {
     "data": {
      "text/plain": [
       "           eid  31-0.0  34-0.0  21022-0.0  131366-0.0  age_dci  \\\n",
       "0      1000157       1  1945.0       63.0  2006-07-11       61   \n",
       "1      1000658       0  1943.0       66.0  2011-11-24       68   \n",
       "2      1002403       1  1943.0       64.0  1998-02-14       55   \n",
       "3      1002542       1  1942.0       65.0  2018-04-20       76   \n",
       "4      1002633       0  1946.0       63.0  2010-08-22       64   \n",
       "...        ...     ...     ...        ...         ...      ...   \n",
       "10826  6021252       1  1943.0       65.0  2016-10-28       73   \n",
       "10827  6021719       1  1952.0       55.0  2003-09-17       51   \n",
       "10828  6021899       1  1957.0       52.0  2012-02-27       55   \n",
       "10829  6023669       1  1957.0       52.0  2010-12-05       53   \n",
       "10830  6023834       0  1939.0       68.0  2022-09-10       83   \n",
       "\n",
       "       diag_ci_before_recruit  \n",
       "0                        True  \n",
       "1                       False  \n",
       "2                        True  \n",
       "3                       False  \n",
       "4                       False  \n",
       "...                       ...  \n",
       "10826                   False  \n",
       "10827                    True  \n",
       "10828                   False  \n",
       "10829                   False  \n",
       "10830                   False  \n",
       "\n",
       "[10831 rows x 7 columns]"
      ],
      "text/html": [
       "<div>\n",
       "<style scoped>\n",
       "    .dataframe tbody tr th:only-of-type {\n",
       "        vertical-align: middle;\n",
       "    }\n",
       "\n",
       "    .dataframe tbody tr th {\n",
       "        vertical-align: top;\n",
       "    }\n",
       "\n",
       "    .dataframe thead th {\n",
       "        text-align: right;\n",
       "    }\n",
       "</style>\n",
       "<table border=\"1\" class=\"dataframe\">\n",
       "  <thead>\n",
       "    <tr style=\"text-align: right;\">\n",
       "      <th></th>\n",
       "      <th>eid</th>\n",
       "      <th>31-0.0</th>\n",
       "      <th>34-0.0</th>\n",
       "      <th>21022-0.0</th>\n",
       "      <th>131366-0.0</th>\n",
       "      <th>age_dci</th>\n",
       "      <th>diag_ci_before_recruit</th>\n",
       "    </tr>\n",
       "  </thead>\n",
       "  <tbody>\n",
       "    <tr>\n",
       "      <th>0</th>\n",
       "      <td>1000157</td>\n",
       "      <td>1</td>\n",
       "      <td>1945.0</td>\n",
       "      <td>63.0</td>\n",
       "      <td>2006-07-11</td>\n",
       "      <td>61</td>\n",
       "      <td>True</td>\n",
       "    </tr>\n",
       "    <tr>\n",
       "      <th>1</th>\n",
       "      <td>1000658</td>\n",
       "      <td>0</td>\n",
       "      <td>1943.0</td>\n",
       "      <td>66.0</td>\n",
       "      <td>2011-11-24</td>\n",
       "      <td>68</td>\n",
       "      <td>False</td>\n",
       "    </tr>\n",
       "    <tr>\n",
       "      <th>2</th>\n",
       "      <td>1002403</td>\n",
       "      <td>1</td>\n",
       "      <td>1943.0</td>\n",
       "      <td>64.0</td>\n",
       "      <td>1998-02-14</td>\n",
       "      <td>55</td>\n",
       "      <td>True</td>\n",
       "    </tr>\n",
       "    <tr>\n",
       "      <th>3</th>\n",
       "      <td>1002542</td>\n",
       "      <td>1</td>\n",
       "      <td>1942.0</td>\n",
       "      <td>65.0</td>\n",
       "      <td>2018-04-20</td>\n",
       "      <td>76</td>\n",
       "      <td>False</td>\n",
       "    </tr>\n",
       "    <tr>\n",
       "      <th>4</th>\n",
       "      <td>1002633</td>\n",
       "      <td>0</td>\n",
       "      <td>1946.0</td>\n",
       "      <td>63.0</td>\n",
       "      <td>2010-08-22</td>\n",
       "      <td>64</td>\n",
       "      <td>False</td>\n",
       "    </tr>\n",
       "    <tr>\n",
       "      <th>...</th>\n",
       "      <td>...</td>\n",
       "      <td>...</td>\n",
       "      <td>...</td>\n",
       "      <td>...</td>\n",
       "      <td>...</td>\n",
       "      <td>...</td>\n",
       "      <td>...</td>\n",
       "    </tr>\n",
       "    <tr>\n",
       "      <th>10826</th>\n",
       "      <td>6021252</td>\n",
       "      <td>1</td>\n",
       "      <td>1943.0</td>\n",
       "      <td>65.0</td>\n",
       "      <td>2016-10-28</td>\n",
       "      <td>73</td>\n",
       "      <td>False</td>\n",
       "    </tr>\n",
       "    <tr>\n",
       "      <th>10827</th>\n",
       "      <td>6021719</td>\n",
       "      <td>1</td>\n",
       "      <td>1952.0</td>\n",
       "      <td>55.0</td>\n",
       "      <td>2003-09-17</td>\n",
       "      <td>51</td>\n",
       "      <td>True</td>\n",
       "    </tr>\n",
       "    <tr>\n",
       "      <th>10828</th>\n",
       "      <td>6021899</td>\n",
       "      <td>1</td>\n",
       "      <td>1957.0</td>\n",
       "      <td>52.0</td>\n",
       "      <td>2012-02-27</td>\n",
       "      <td>55</td>\n",
       "      <td>False</td>\n",
       "    </tr>\n",
       "    <tr>\n",
       "      <th>10829</th>\n",
       "      <td>6023669</td>\n",
       "      <td>1</td>\n",
       "      <td>1957.0</td>\n",
       "      <td>52.0</td>\n",
       "      <td>2010-12-05</td>\n",
       "      <td>53</td>\n",
       "      <td>False</td>\n",
       "    </tr>\n",
       "    <tr>\n",
       "      <th>10830</th>\n",
       "      <td>6023834</td>\n",
       "      <td>0</td>\n",
       "      <td>1939.0</td>\n",
       "      <td>68.0</td>\n",
       "      <td>2022-09-10</td>\n",
       "      <td>83</td>\n",
       "      <td>False</td>\n",
       "    </tr>\n",
       "  </tbody>\n",
       "</table>\n",
       "<p>10831 rows × 7 columns</p>\n",
       "</div>"
      ]
     },
     "execution_count": 2,
     "metadata": {},
     "output_type": "execute_result"
    }
   ],
   "execution_count": 2
  },
  {
   "metadata": {
    "ExecuteTime": {
     "end_time": "2024-08-20T11:32:31.573184Z",
     "start_time": "2024-08-20T11:32:31.039278Z"
    }
   },
   "cell_type": "code",
   "source": [
    "ages_at_cerebral_infraction =\\\n",
    "    {'0-10' : 0,\n",
    "        '10-15' : 0,\n",
    "        '15-20' : 0,\n",
    "        '21-25' : 0,\n",
    "        '26-30' : 0,\n",
    "        '31-35' : 0,\n",
    "        '36-40' : 0,\n",
    "        '41-45' : 0,\n",
    "        '46-50' : 0,\n",
    "        '51-55' : 0,\n",
    "        '56-60' : 0,\n",
    "        '61-65' : 0,\n",
    "        '66-70' : 0,\n",
    "        '71-75' : 0,\n",
    "        '76-80' : 0,\n",
    "        '81-85' : 0,\n",
    "        '86-90' : 0,\n",
    "        'Over90' : 0\n",
    "        }\n",
    "for _, row in df.iterrows():\n",
    "    age = row['age_dci']\n",
    "    if age < 10:\n",
    "        ages_at_cerebral_infraction['0-10'] += 1\n",
    "    elif 10 <= age <= 15:\n",
    "        ages_at_cerebral_infraction['10-15'] += 1\n",
    "    elif 15 < age <= 20:\n",
    "        ages_at_cerebral_infraction['10-20'] += 1\n",
    "    elif 20 < age <= 25:\n",
    "        ages_at_cerebral_infraction['21-25'] += 1\n",
    "    elif 25 < age <= 30:\n",
    "        ages_at_cerebral_infraction['26-30'] += 1\n",
    "    elif 30 < age <= 35:\n",
    "        ages_at_cerebral_infraction['31-35'] += 1\n",
    "    elif 35 < age <= 40:\n",
    "        ages_at_cerebral_infraction['36-40'] += 1\n",
    "    elif 40 < age <= 45:\n",
    "        ages_at_cerebral_infraction['41-45'] += 1\n",
    "    elif 45 < age <= 50:\n",
    "        ages_at_cerebral_infraction['46-50'] += 1\n",
    "    elif 50 < age <= 55:\n",
    "        ages_at_cerebral_infraction['51-55'] += 1\n",
    "    elif 55 < age <= 60:\n",
    "        ages_at_cerebral_infraction['56-60'] += 1\n",
    "    elif 60 < age <= 65:\n",
    "        ages_at_cerebral_infraction['61-65'] += 1\n",
    "    elif 65 < age <= 70:\n",
    "        ages_at_cerebral_infraction['66-70'] += 1\n",
    "    elif 70 < age <= 75:\n",
    "        ages_at_cerebral_infraction['71-75'] += 1\n",
    "    elif 75 < age <= 80:\n",
    "        ages_at_cerebral_infraction['76-80'] += 1\n",
    "    elif 80 < age <= 85:\n",
    "        ages_at_cerebral_infraction['81-85'] += 1\n",
    "    elif 85 < age <= 90:\n",
    "        ages_at_cerebral_infraction['86-90'] += 1\n",
    "    elif 90 < age:\n",
    "        ages_at_cerebral_infraction['Over90'] += 1\n",
    "    \n",
    "ages_at_cerebral_infraction"
   ],
   "id": "13038da1958383c1",
   "outputs": [
    {
     "data": {
      "text/plain": [
       "{'0-10': 0,\n",
       " '10-15': 1,\n",
       " '15-20': 0,\n",
       " '21-25': 2,\n",
       " '26-30': 5,\n",
       " '31-35': 14,\n",
       " '36-40': 42,\n",
       " '41-45': 138,\n",
       " '46-50': 300,\n",
       " '51-55': 618,\n",
       " '56-60': 977,\n",
       " '61-65': 1481,\n",
       " '66-70': 2144,\n",
       " '71-75': 2641,\n",
       " '76-80': 1998,\n",
       " '81-85': 470,\n",
       " '86-90': 0,\n",
       " 'Over90': 0}"
      ]
     },
     "execution_count": 3,
     "metadata": {},
     "output_type": "execute_result"
    }
   ],
   "execution_count": 3
  },
  {
   "metadata": {
    "ExecuteTime": {
     "end_time": "2024-08-20T11:32:37.182274Z",
     "start_time": "2024-08-20T11:32:37.174624Z"
    }
   },
   "cell_type": "code",
   "source": [
    "nof_all_patients = df.shape[0]\n",
    "nof_women_patients = len(df[df['31-0.0'] == 0]) # Compute the number of women which diagnosed with cerebral infraction\n",
    "nof_men_patients = len(df[df['31-0.0'] == 1])   # Compute the number of men which diagnosed with cerebral infraction\n",
    "print(\"Number of women which diagnosed with cerebral infraction is: \", nof_women_patients)\n",
    "percentage_women = (nof_women_patients / nof_all_patients) * 100\n",
    "print(f'Percentage of women: {percentage_women:.2f}%')\n",
    "print(\"Number of men which diagnosed with cerebral infraction is: \", nof_men_patients)\n",
    "percentage_men = (nof_men_patients / nof_all_patients) * 100\n",
    "print(f'Percentage of women: {percentage_men:.2f}%')"
   ],
   "id": "f3d34919e916120",
   "outputs": [
    {
     "name": "stdout",
     "output_type": "stream",
     "text": [
      "Number of women which diagnosed with cerebral infraction is:  4270\n",
      "Percentage of women: 39.42%\n",
      "Number of men which diagnosed with cerebral infraction is:  6561\n",
      "Percentage of women: 60.58%\n"
     ]
    }
   ],
   "execution_count": 4
  },
  {
   "metadata": {},
   "cell_type": "markdown",
   "source": [
    "Investigate Cerebral Infraction Death Cause Data:"
   ],
   "id": "32ccad389c625d18"
  },
  {
   "metadata": {
    "ExecuteTime": {
     "end_time": "2024-08-20T11:32:41.146461Z",
     "start_time": "2024-08-20T11:32:41.013548Z"
    }
   },
   "cell_type": "code",
   "source": [
    "death_cause_df = pd.read_csv(r'../../biobank/death_cause.txt', sep='\\t',usecols=['eid', 'cause_icd10'])\n",
    "death_cause_I63_df = death_cause_df[death_cause_df['cause_icd10'].str.contains(\"I63\", na=False)]\n",
    "death_cause_I63_df"
   ],
   "id": "87955555238b8b3b",
   "outputs": [
    {
     "data": {
      "text/plain": [
       "            eid cause_icd10\n",
       "87      1003252        I635\n",
       "115     1004155        I639\n",
       "445     1019681        I639\n",
       "716     1029873        I639\n",
       "1222    1051150        I634\n",
       "...         ...         ...\n",
       "110456  5916506        I639\n",
       "111607  5967615        I639\n",
       "112216  5995176        I639\n",
       "112396  6001688        I639\n",
       "112854  6021252        I634\n",
       "\n",
       "[444 rows x 2 columns]"
      ],
      "text/html": [
       "<div>\n",
       "<style scoped>\n",
       "    .dataframe tbody tr th:only-of-type {\n",
       "        vertical-align: middle;\n",
       "    }\n",
       "\n",
       "    .dataframe tbody tr th {\n",
       "        vertical-align: top;\n",
       "    }\n",
       "\n",
       "    .dataframe thead th {\n",
       "        text-align: right;\n",
       "    }\n",
       "</style>\n",
       "<table border=\"1\" class=\"dataframe\">\n",
       "  <thead>\n",
       "    <tr style=\"text-align: right;\">\n",
       "      <th></th>\n",
       "      <th>eid</th>\n",
       "      <th>cause_icd10</th>\n",
       "    </tr>\n",
       "  </thead>\n",
       "  <tbody>\n",
       "    <tr>\n",
       "      <th>87</th>\n",
       "      <td>1003252</td>\n",
       "      <td>I635</td>\n",
       "    </tr>\n",
       "    <tr>\n",
       "      <th>115</th>\n",
       "      <td>1004155</td>\n",
       "      <td>I639</td>\n",
       "    </tr>\n",
       "    <tr>\n",
       "      <th>445</th>\n",
       "      <td>1019681</td>\n",
       "      <td>I639</td>\n",
       "    </tr>\n",
       "    <tr>\n",
       "      <th>716</th>\n",
       "      <td>1029873</td>\n",
       "      <td>I639</td>\n",
       "    </tr>\n",
       "    <tr>\n",
       "      <th>1222</th>\n",
       "      <td>1051150</td>\n",
       "      <td>I634</td>\n",
       "    </tr>\n",
       "    <tr>\n",
       "      <th>...</th>\n",
       "      <td>...</td>\n",
       "      <td>...</td>\n",
       "    </tr>\n",
       "    <tr>\n",
       "      <th>110456</th>\n",
       "      <td>5916506</td>\n",
       "      <td>I639</td>\n",
       "    </tr>\n",
       "    <tr>\n",
       "      <th>111607</th>\n",
       "      <td>5967615</td>\n",
       "      <td>I639</td>\n",
       "    </tr>\n",
       "    <tr>\n",
       "      <th>112216</th>\n",
       "      <td>5995176</td>\n",
       "      <td>I639</td>\n",
       "    </tr>\n",
       "    <tr>\n",
       "      <th>112396</th>\n",
       "      <td>6001688</td>\n",
       "      <td>I639</td>\n",
       "    </tr>\n",
       "    <tr>\n",
       "      <th>112854</th>\n",
       "      <td>6021252</td>\n",
       "      <td>I634</td>\n",
       "    </tr>\n",
       "  </tbody>\n",
       "</table>\n",
       "<p>444 rows × 2 columns</p>\n",
       "</div>"
      ]
     },
     "execution_count": 5,
     "metadata": {},
     "output_type": "execute_result"
    }
   ],
   "execution_count": 5
  },
  {
   "metadata": {
    "ExecuteTime": {
     "end_time": "2024-08-20T11:33:19.814316Z",
     "start_time": "2024-08-20T11:33:19.691503Z"
    }
   },
   "cell_type": "code",
   "source": [
    "df['is_alive'] = df['eid'].apply(lambda eid: eid not in death_cause_I63_df['eid'].values)"
   ],
   "id": "2a7e19345e307de4",
   "outputs": [],
   "execution_count": 6
  },
  {
   "metadata": {
    "ExecuteTime": {
     "end_time": "2024-08-20T11:33:21.504419Z",
     "start_time": "2024-08-20T11:33:21.496994Z"
    }
   },
   "cell_type": "code",
   "source": [
    "print(\"Total amount of death from cerebral infraction is: \", len(df[df['is_alive'] == False]))\n",
    "print(\"Amount of Men death from cerebral infraction is: \", len(df[(df['31-0.0'] == 1) & (df['is_alive'] == False)]))\n",
    "print(\"Amount of Women death from cerebral infraction is: \", len(df[(df['31-0.0'] == 0) & (df['is_alive'] == False)]))"
   ],
   "id": "addcd500c412f156",
   "outputs": [
    {
     "name": "stdout",
     "output_type": "stream",
     "text": [
      "Total amount of death from cerebral infraction is:  420\n",
      "Amount of Men death from cerebral infraction is:  259\n",
      "Amount of Women death from cerebral infraction is:  161\n"
     ]
    }
   ],
   "execution_count": 8
  },
  {
   "metadata": {
    "ExecuteTime": {
     "end_time": "2024-08-20T11:33:26.186646Z",
     "start_time": "2024-08-20T11:33:26.163306Z"
    }
   },
   "cell_type": "code",
   "source": [
    "relevant_ci_df = df[df['diag_ci_before_recruit'] == False]\n",
    "ci_eid_df = pd.DataFrame(relevant_ci_df['eid'])\n",
    "ci_eid_df.to_csv(r'Cerebral Infraction Diagnosed EIDs.csv', index=False)"
   ],
   "id": "e61c4765e6b10d41",
   "outputs": [],
   "execution_count": 9
  },
  {
   "metadata": {
    "ExecuteTime": {
     "end_time": "2024-08-20T11:33:29.057179Z",
     "start_time": "2024-08-20T11:33:29.047178Z"
    }
   },
   "cell_type": "code",
   "source": [
    "ci_eid_df = pd.read_csv(r'Cerebral Infraction Diagnosed EIDs.csv')\n",
    "ci_eid_df"
   ],
   "id": "bb99761f3e565f9a",
   "outputs": [
    {
     "data": {
      "text/plain": [
       "          eid\n",
       "0     1000658\n",
       "1     1002542\n",
       "2     1002633\n",
       "3     1003228\n",
       "4     1003252\n",
       "...       ...\n",
       "9415  6019448\n",
       "9416  6021252\n",
       "9417  6021899\n",
       "9418  6023669\n",
       "9419  6023834\n",
       "\n",
       "[9420 rows x 1 columns]"
      ],
      "text/html": [
       "<div>\n",
       "<style scoped>\n",
       "    .dataframe tbody tr th:only-of-type {\n",
       "        vertical-align: middle;\n",
       "    }\n",
       "\n",
       "    .dataframe tbody tr th {\n",
       "        vertical-align: top;\n",
       "    }\n",
       "\n",
       "    .dataframe thead th {\n",
       "        text-align: right;\n",
       "    }\n",
       "</style>\n",
       "<table border=\"1\" class=\"dataframe\">\n",
       "  <thead>\n",
       "    <tr style=\"text-align: right;\">\n",
       "      <th></th>\n",
       "      <th>eid</th>\n",
       "    </tr>\n",
       "  </thead>\n",
       "  <tbody>\n",
       "    <tr>\n",
       "      <th>0</th>\n",
       "      <td>1000658</td>\n",
       "    </tr>\n",
       "    <tr>\n",
       "      <th>1</th>\n",
       "      <td>1002542</td>\n",
       "    </tr>\n",
       "    <tr>\n",
       "      <th>2</th>\n",
       "      <td>1002633</td>\n",
       "    </tr>\n",
       "    <tr>\n",
       "      <th>3</th>\n",
       "      <td>1003228</td>\n",
       "    </tr>\n",
       "    <tr>\n",
       "      <th>4</th>\n",
       "      <td>1003252</td>\n",
       "    </tr>\n",
       "    <tr>\n",
       "      <th>...</th>\n",
       "      <td>...</td>\n",
       "    </tr>\n",
       "    <tr>\n",
       "      <th>9415</th>\n",
       "      <td>6019448</td>\n",
       "    </tr>\n",
       "    <tr>\n",
       "      <th>9416</th>\n",
       "      <td>6021252</td>\n",
       "    </tr>\n",
       "    <tr>\n",
       "      <th>9417</th>\n",
       "      <td>6021899</td>\n",
       "    </tr>\n",
       "    <tr>\n",
       "      <th>9418</th>\n",
       "      <td>6023669</td>\n",
       "    </tr>\n",
       "    <tr>\n",
       "      <th>9419</th>\n",
       "      <td>6023834</td>\n",
       "    </tr>\n",
       "  </tbody>\n",
       "</table>\n",
       "<p>9420 rows × 1 columns</p>\n",
       "</div>"
      ]
     },
     "execution_count": 10,
     "metadata": {},
     "output_type": "execute_result"
    }
   ],
   "execution_count": 10
  }
 ],
 "metadata": {
  "kernelspec": {
   "display_name": "Python 3",
   "language": "python",
   "name": "python3"
  },
  "language_info": {
   "codemirror_mode": {
    "name": "ipython",
    "version": 2
   },
   "file_extension": ".py",
   "mimetype": "text/x-python",
   "name": "python",
   "nbconvert_exporter": "python",
   "pygments_lexer": "ipython2",
   "version": "2.7.6"
  }
 },
 "nbformat": 4,
 "nbformat_minor": 5
}
