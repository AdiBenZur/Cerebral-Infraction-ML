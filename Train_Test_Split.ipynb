{
 "cells": [
  {
   "cell_type": "code",
   "id": "initial_id",
   "metadata": {
    "collapsed": true,
    "ExecuteTime": {
     "end_time": "2024-08-25T14:55:46.958415Z",
     "start_time": "2024-08-25T14:55:46.417990Z"
    }
   },
   "source": [
    "import pandas as pd\n",
    "from sklearn.model_selection import train_test_split\n",
    "from tqdm import tqdm"
   ],
   "outputs": [],
   "execution_count": 1
  },
  {
   "metadata": {
    "ExecuteTime": {
     "end_time": "2024-08-25T14:55:50.358138Z",
     "start_time": "2024-08-25T14:55:50.295727Z"
    }
   },
   "cell_type": "code",
   "source": [
    "cerebral_infraction_eids_df = pd.read_csv('Cerebral Infraction Diagnosed EIDs.csv')\n",
    "control_group_eids_df = pd.read_csv('Control Group EIDs Output.csv')\n",
    "all_eids_df = pd.concat([cerebral_infraction_eids_df, control_group_eids_df], ignore_index=True)\n",
    "all_eids_df = all_eids_df.sample(frac=1, random_state=42, ignore_index=True)\n",
    "all_eids_df"
   ],
   "id": "f521d4926a1530b8",
   "outputs": [
    {
     "data": {
      "text/plain": [
       "           eid\n",
       "0      2994078\n",
       "1      3049327\n",
       "2      1834794\n",
       "3      4377188\n",
       "4      5417407\n",
       "...        ...\n",
       "49415  4597755\n",
       "49416  4743443\n",
       "49417  4718134\n",
       "49418  1468230\n",
       "49419  1602478\n",
       "\n",
       "[49420 rows x 1 columns]"
      ],
      "text/html": [
       "<div>\n",
       "<style scoped>\n",
       "    .dataframe tbody tr th:only-of-type {\n",
       "        vertical-align: middle;\n",
       "    }\n",
       "\n",
       "    .dataframe tbody tr th {\n",
       "        vertical-align: top;\n",
       "    }\n",
       "\n",
       "    .dataframe thead th {\n",
       "        text-align: right;\n",
       "    }\n",
       "</style>\n",
       "<table border=\"1\" class=\"dataframe\">\n",
       "  <thead>\n",
       "    <tr style=\"text-align: right;\">\n",
       "      <th></th>\n",
       "      <th>eid</th>\n",
       "    </tr>\n",
       "  </thead>\n",
       "  <tbody>\n",
       "    <tr>\n",
       "      <th>0</th>\n",
       "      <td>2994078</td>\n",
       "    </tr>\n",
       "    <tr>\n",
       "      <th>1</th>\n",
       "      <td>3049327</td>\n",
       "    </tr>\n",
       "    <tr>\n",
       "      <th>2</th>\n",
       "      <td>1834794</td>\n",
       "    </tr>\n",
       "    <tr>\n",
       "      <th>3</th>\n",
       "      <td>4377188</td>\n",
       "    </tr>\n",
       "    <tr>\n",
       "      <th>4</th>\n",
       "      <td>5417407</td>\n",
       "    </tr>\n",
       "    <tr>\n",
       "      <th>...</th>\n",
       "      <td>...</td>\n",
       "    </tr>\n",
       "    <tr>\n",
       "      <th>49415</th>\n",
       "      <td>4597755</td>\n",
       "    </tr>\n",
       "    <tr>\n",
       "      <th>49416</th>\n",
       "      <td>4743443</td>\n",
       "    </tr>\n",
       "    <tr>\n",
       "      <th>49417</th>\n",
       "      <td>4718134</td>\n",
       "    </tr>\n",
       "    <tr>\n",
       "      <th>49418</th>\n",
       "      <td>1468230</td>\n",
       "    </tr>\n",
       "    <tr>\n",
       "      <th>49419</th>\n",
       "      <td>1602478</td>\n",
       "    </tr>\n",
       "  </tbody>\n",
       "</table>\n",
       "<p>49420 rows × 1 columns</p>\n",
       "</div>"
      ]
     },
     "execution_count": 2,
     "metadata": {},
     "output_type": "execute_result"
    }
   ],
   "execution_count": 2
  },
  {
   "metadata": {
    "ExecuteTime": {
     "end_time": "2024-08-25T14:55:57.131537Z",
     "start_time": "2024-08-25T14:55:57.088280Z"
    }
   },
   "cell_type": "code",
   "source": [
    "temp_df, test_df = train_test_split(all_eids_df, test_size=0.2, random_state=42)\n",
    "train_df, validation_df = train_test_split(temp_df, test_size=0.2, random_state=42)\n",
    "train_df.to_csv('Train EIDs.csv', index=False)\n",
    "validation_df.to_csv('Validation EIDs.csv', index=False)\n",
    "test_df.to_csv('Test EIDs.csv', index=False)"
   ],
   "id": "e126e1173d76c694",
   "outputs": [],
   "execution_count": 3
  },
  {
   "metadata": {},
   "cell_type": "markdown",
   "source": "### Start Execute From Here ###",
   "id": "2bee2c729ea19d94"
  },
  {
   "metadata": {
    "ExecuteTime": {
     "end_time": "2024-08-25T14:56:00.938421Z",
     "start_time": "2024-08-25T14:56:00.923096Z"
    }
   },
   "cell_type": "code",
   "source": [
    "train_df = pd.read_csv('Train EIDs.csv')\n",
    "validation_df = pd.read_csv('Validation EIDs.csv')\n",
    "test_df = pd.read_csv('Test EIDs.csv')"
   ],
   "id": "cb1e5a422296ef3c",
   "outputs": [],
   "execution_count": 4
  },
  {
   "metadata": {
    "ExecuteTime": {
     "end_time": "2024-08-25T14:56:02.411437Z",
     "start_time": "2024-08-25T14:56:02.406266Z"
    }
   },
   "cell_type": "code",
   "source": [
    "train_eids_list = train_df['eid'].to_list()\n",
    "validation_eids_list = validation_df['eid'].to_list()\n",
    "test_eids_list = test_df['eid'].to_list()"
   ],
   "id": "9a97f15dd6af1fba",
   "outputs": [],
   "execution_count": 5
  },
  {
   "metadata": {
    "ExecuteTime": {
     "end_time": "2024-08-25T14:56:04.292265Z",
     "start_time": "2024-08-25T14:56:04.274680Z"
    }
   },
   "cell_type": "code",
   "source": [
    "features_list = pd.read_csv('Features.csv')['Features'].to_list()\n",
    "features_list"
   ],
   "id": "91b46db1bb02f77c",
   "outputs": [
    {
     "data": {
      "text/plain": [
       "['eid',\n",
       " '131366-0.0',\n",
       " '31-0.0',\n",
       " '4079-0.0',\n",
       " '102-0.0',\n",
       " '4080-0.0',\n",
       " '96-0.0',\n",
       " '20160-0.0',\n",
       " '20116-0.0',\n",
       " '1239-0.0',\n",
       " '1249-0.0',\n",
       " '1269-0.0',\n",
       " '1279-0.0',\n",
       " '1160-0.0',\n",
       " '1170-0.0',\n",
       " '1180-0.0',\n",
       " '1190-0.0',\n",
       " '1200-0.0',\n",
       " '1210-0.0',\n",
       " '1220-0.0',\n",
       " '1289-0.0',\n",
       " '1299-0.0',\n",
       " '1309-0.0',\n",
       " '1319-0.0',\n",
       " '1329-0.0',\n",
       " '1339-0.0',\n",
       " '1349-0.0',\n",
       " '1359-0.0',\n",
       " '1369-0.0',\n",
       " '1379-0.0',\n",
       " '1389-0.0',\n",
       " '6144-0.0',\n",
       " '1408-0.0',\n",
       " '1418-0.0',\n",
       " '1428-0.0',\n",
       " '1438-0.0',\n",
       " '1448-0.0',\n",
       " '1458-0.0',\n",
       " '1468-0.0',\n",
       " '1478-0.0',\n",
       " '1488-0.0',\n",
       " '1498-0.0',\n",
       " '1508-0.0',\n",
       " '1518-0.0',\n",
       " '1528-0.0',\n",
       " '1538-0.0',\n",
       " '1548-0.0',\n",
       " '20117-0.0',\n",
       " '1558-0.0',\n",
       " '5364-0.0',\n",
       " '1618-0.0',\n",
       " '1628-0.0',\n",
       " '894-0.0',\n",
       " '914-0.0',\n",
       " '874-0.0',\n",
       " '981-0.0',\n",
       " '1050-0.0',\n",
       " '1060-0.0',\n",
       " '1717-0.0',\n",
       " '1727-0.0',\n",
       " '1737-0.0',\n",
       " '1747-0.0',\n",
       " '1757-0.0',\n",
       " '2267-0.0',\n",
       " '2277-0.0',\n",
       " '1647-0.0',\n",
       " '1677-0.0',\n",
       " '1687-0.0',\n",
       " '1697-0.0',\n",
       " '1707-0.0',\n",
       " '1767-0.0',\n",
       " '1777-0.0',\n",
       " '1787-0.0',\n",
       " '24014-0.0',\n",
       " '24012-0.0',\n",
       " '24010-0.0',\n",
       " '24016-0.0',\n",
       " '24017-0.0',\n",
       " '24018-0.0',\n",
       " '24003-0.0',\n",
       " '24004-0.0',\n",
       " '24019-0.0',\n",
       " '24005-0.0',\n",
       " '24007-0.0',\n",
       " '24006-0.0',\n",
       " '24008-0.0',\n",
       " '24015-0.0',\n",
       " '24013-0.0',\n",
       " '24011-0.0',\n",
       " '24009-0.0',\n",
       " '21002-0.0',\n",
       " '21001-0.0',\n",
       " '49-0.0',\n",
       " '20127-0.0',\n",
       " '1920-0.0',\n",
       " '1930-0.0',\n",
       " '1940-0.0',\n",
       " '1950-0.0',\n",
       " '1960-0.0',\n",
       " '1970-0.0',\n",
       " '1980-0.0',\n",
       " '1990-0.0',\n",
       " '2000-0.0',\n",
       " '2010-0.0',\n",
       " '2020-0.0',\n",
       " '2030-0.0',\n",
       " '2040-0.0',\n",
       " '4526-0.0',\n",
       " '2050-0.0',\n",
       " '2060-0.0',\n",
       " '2070-0.0',\n",
       " '2080-0.0',\n",
       " '2090-0.0',\n",
       " '2100-0.0',\n",
       " '4598-0.0',\n",
       " '50-0.0']"
      ]
     },
     "execution_count": 6,
     "metadata": {},
     "output_type": "execute_result"
    }
   ],
   "execution_count": 6
  },
  {
   "metadata": {
    "ExecuteTime": {
     "end_time": "2024-08-25T14:56:07.209577Z",
     "start_time": "2024-08-25T14:56:07.206052Z"
    }
   },
   "cell_type": "code",
   "source": [
    "input_csv = r'../../biobank/ukb672220.csv'\n",
    "train_data_csv = 'Train Data.csv'\n",
    "validation_data_csv = 'Validation Data.csv'\n",
    "test_data_csv = 'Test Data.csv'"
   ],
   "id": "7fb9349861a3038c",
   "outputs": [],
   "execution_count": 7
  },
  {
   "metadata": {
    "ExecuteTime": {
     "end_time": "2024-08-25T14:56:08.053572Z",
     "start_time": "2024-08-25T14:56:08.049996Z"
    }
   },
   "cell_type": "code",
   "source": [
    "train_flag = True\n",
    "validation_flag = True\n",
    "test_flag = True"
   ],
   "id": "47a3470e5a55e0a1",
   "outputs": [],
   "execution_count": 8
  },
  {
   "metadata": {},
   "cell_type": "markdown",
   "source": "### Extract Test EIDs With Featurs ###",
   "id": "691224d3a9c24d5a"
  },
  {
   "metadata": {
    "ExecuteTime": {
     "end_time": "2024-08-25T15:03:19.294993Z",
     "start_time": "2024-08-25T14:56:26.606019Z"
    }
   },
   "cell_type": "code",
   "source": [
    "desired_cols = features_list\n",
    "# Chunk processing and filtering\n",
    "chunk_size = 1000\n",
    "print(\"Starting\")\n",
    "for chunk in tqdm(pd.read_csv(input_csv, \n",
    "                          chunksize=chunk_size, \n",
    "                          usecols=desired_cols, \n",
    "                          low_memory=False),\n",
    "              desc='Processing', \n",
    "              unit=' chunk'):\n",
    "    \n",
    "    #Add data of train\n",
    "    if train_flag:\n",
    "        chunk[chunk['eid'].isin(train_eids_list)].to_csv(train_data_csv, header=True, index=False)\n",
    "        train_flag = False\n",
    "    else:\n",
    "        chunk[chunk['eid'].isin(train_eids_list)].to_csv(train_data_csv, mode='a', header=False, index=False)\n",
    "    \n",
    "    #Add data of validation\n",
    "    if validation_flag:\n",
    "        chunk[chunk['eid'].isin(validation_eids_list)].to_csv(validation_data_csv, header=True, index=False)\n",
    "        validation_flag = False\n",
    "    else:\n",
    "        chunk[chunk['eid'].isin(validation_eids_list)].to_csv(validation_data_csv, mode='a', header=False, index=False)\n",
    "    \n",
    "    #Add data of test\n",
    "    if test_flag:\n",
    "        chunk[chunk['eid'].isin(test_eids_list)].to_csv(test_data_csv, header=True, index=False)\n",
    "        test_flag = False\n",
    "    else:\n",
    "        chunk[chunk['eid'].isin(test_eids_list)].to_csv(test_data_csv, mode='a', header=False, index=False)\n",
    "        \n",
    "    del chunk\n"
   ],
   "id": "362137aeb4a049d9",
   "outputs": [
    {
     "name": "stdout",
     "output_type": "stream",
     "text": [
      "Starting\n"
     ]
    },
    {
     "name": "stderr",
     "output_type": "stream",
     "text": [
      "Processing: 503 chunk [06:52,  1.22 chunk/s]\n"
     ]
    }
   ],
   "execution_count": 9
  },
  {
   "metadata": {},
   "cell_type": "markdown",
   "source": "",
   "id": "1d6e4fe3112ffce9"
  }
 ],
 "metadata": {
  "kernelspec": {
   "display_name": "Python 3",
   "language": "python",
   "name": "python3"
  },
  "language_info": {
   "codemirror_mode": {
    "name": "ipython",
    "version": 2
   },
   "file_extension": ".py",
   "mimetype": "text/x-python",
   "name": "python",
   "nbconvert_exporter": "python",
   "pygments_lexer": "ipython2",
   "version": "2.7.6"
  }
 },
 "nbformat": 4,
 "nbformat_minor": 5
}
