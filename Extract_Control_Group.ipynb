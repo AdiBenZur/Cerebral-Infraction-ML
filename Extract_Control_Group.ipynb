{
 "cells": [
  {
   "cell_type": "code",
   "id": "initial_id",
   "metadata": {
    "collapsed": true,
    "ExecuteTime": {
     "end_time": "2024-08-25T14:44:22.902690Z",
     "start_time": "2024-08-25T14:44:22.886855Z"
    }
   },
   "source": [
    "import pandas as pd\n",
    "import numpy as np\n",
    "from tqdm import tqdm"
   ],
   "outputs": [],
   "execution_count": 1
  },
  {
   "metadata": {
    "ExecuteTime": {
     "end_time": "2024-08-25T14:51:19.521443Z",
     "start_time": "2024-08-25T14:44:28.993682Z"
    }
   },
   "cell_type": "code",
   "source": [
    "file_path = r'../../biobank/ukb672220.csv'\n",
    "column_to_read = ['eid', '34-0.0']\n",
    "\n",
    "chunksize = 1000\n",
    "filtered_chunks = []\n",
    "print(\"Starting\")\n",
    "\n",
    "for chunk in tqdm(pd.read_csv(file_path, \n",
    "                              chunksize=chunksize, \n",
    "                              usecols=column_to_read, \n",
    "                              low_memory=False),\n",
    "                  desc='Processing', \n",
    "                  unit=' chunk'):\n",
    "    filtered_chunks.append(chunk)\n",
    "    del chunk\n",
    "    \n",
    "filtered_df = pd.concat(filtered_chunks, ignore_index=True)\n",
    "\n",
    "del filtered_chunks    \n",
    "\n",
    "filtered_df\n"
   ],
   "id": "83ae9f26c1cc02c3",
   "outputs": [
    {
     "name": "stdout",
     "output_type": "stream",
     "text": [
      "Starting\n"
     ]
    },
    {
     "name": "stderr",
     "output_type": "stream",
     "text": [
      "Processing: 503 chunk [06:50,  1.23 chunk/s]\n"
     ]
    },
    {
     "data": {
      "text/plain": [
       "            eid  34-0.0\n",
       "0       1000013  1946.0\n",
       "1       1000024  1948.0\n",
       "2       1000036  1960.0\n",
       "3       1000048  1939.0\n",
       "4       1000055  1945.0\n",
       "...         ...     ...\n",
       "502365  6024050  1948.0\n",
       "502366  6024062  1944.0\n",
       "502367  6024077  1961.0\n",
       "502368  6024085  1947.0\n",
       "502369  6024096  1939.0\n",
       "\n",
       "[502370 rows x 2 columns]"
      ],
      "text/html": [
       "<div>\n",
       "<style scoped>\n",
       "    .dataframe tbody tr th:only-of-type {\n",
       "        vertical-align: middle;\n",
       "    }\n",
       "\n",
       "    .dataframe tbody tr th {\n",
       "        vertical-align: top;\n",
       "    }\n",
       "\n",
       "    .dataframe thead th {\n",
       "        text-align: right;\n",
       "    }\n",
       "</style>\n",
       "<table border=\"1\" class=\"dataframe\">\n",
       "  <thead>\n",
       "    <tr style=\"text-align: right;\">\n",
       "      <th></th>\n",
       "      <th>eid</th>\n",
       "      <th>34-0.0</th>\n",
       "    </tr>\n",
       "  </thead>\n",
       "  <tbody>\n",
       "    <tr>\n",
       "      <th>0</th>\n",
       "      <td>1000013</td>\n",
       "      <td>1946.0</td>\n",
       "    </tr>\n",
       "    <tr>\n",
       "      <th>1</th>\n",
       "      <td>1000024</td>\n",
       "      <td>1948.0</td>\n",
       "    </tr>\n",
       "    <tr>\n",
       "      <th>2</th>\n",
       "      <td>1000036</td>\n",
       "      <td>1960.0</td>\n",
       "    </tr>\n",
       "    <tr>\n",
       "      <th>3</th>\n",
       "      <td>1000048</td>\n",
       "      <td>1939.0</td>\n",
       "    </tr>\n",
       "    <tr>\n",
       "      <th>4</th>\n",
       "      <td>1000055</td>\n",
       "      <td>1945.0</td>\n",
       "    </tr>\n",
       "    <tr>\n",
       "      <th>...</th>\n",
       "      <td>...</td>\n",
       "      <td>...</td>\n",
       "    </tr>\n",
       "    <tr>\n",
       "      <th>502365</th>\n",
       "      <td>6024050</td>\n",
       "      <td>1948.0</td>\n",
       "    </tr>\n",
       "    <tr>\n",
       "      <th>502366</th>\n",
       "      <td>6024062</td>\n",
       "      <td>1944.0</td>\n",
       "    </tr>\n",
       "    <tr>\n",
       "      <th>502367</th>\n",
       "      <td>6024077</td>\n",
       "      <td>1961.0</td>\n",
       "    </tr>\n",
       "    <tr>\n",
       "      <th>502368</th>\n",
       "      <td>6024085</td>\n",
       "      <td>1947.0</td>\n",
       "    </tr>\n",
       "    <tr>\n",
       "      <th>502369</th>\n",
       "      <td>6024096</td>\n",
       "      <td>1939.0</td>\n",
       "    </tr>\n",
       "  </tbody>\n",
       "</table>\n",
       "<p>502370 rows × 2 columns</p>\n",
       "</div>"
      ]
     },
     "execution_count": 2,
     "metadata": {},
     "output_type": "execute_result"
    }
   ],
   "execution_count": 2
  },
  {
   "metadata": {
    "ExecuteTime": {
     "end_time": "2024-08-25T14:55:10.106983Z",
     "start_time": "2024-08-25T14:55:10.092391Z"
    }
   },
   "cell_type": "code",
   "source": [
    "filtered_df = filtered_df.drop('34-0.0', axis=1)\n",
    "filtered_df"
   ],
   "id": "409975019a03ac31",
   "outputs": [
    {
     "data": {
      "text/plain": [
       "            eid\n",
       "0       1000013\n",
       "1       1000024\n",
       "2       1000036\n",
       "3       1000048\n",
       "4       1000055\n",
       "...         ...\n",
       "502365  6024050\n",
       "502366  6024062\n",
       "502367  6024077\n",
       "502368  6024085\n",
       "502369  6024096\n",
       "\n",
       "[502370 rows x 1 columns]"
      ],
      "text/html": [
       "<div>\n",
       "<style scoped>\n",
       "    .dataframe tbody tr th:only-of-type {\n",
       "        vertical-align: middle;\n",
       "    }\n",
       "\n",
       "    .dataframe tbody tr th {\n",
       "        vertical-align: top;\n",
       "    }\n",
       "\n",
       "    .dataframe thead th {\n",
       "        text-align: right;\n",
       "    }\n",
       "</style>\n",
       "<table border=\"1\" class=\"dataframe\">\n",
       "  <thead>\n",
       "    <tr style=\"text-align: right;\">\n",
       "      <th></th>\n",
       "      <th>eid</th>\n",
       "    </tr>\n",
       "  </thead>\n",
       "  <tbody>\n",
       "    <tr>\n",
       "      <th>0</th>\n",
       "      <td>1000013</td>\n",
       "    </tr>\n",
       "    <tr>\n",
       "      <th>1</th>\n",
       "      <td>1000024</td>\n",
       "    </tr>\n",
       "    <tr>\n",
       "      <th>2</th>\n",
       "      <td>1000036</td>\n",
       "    </tr>\n",
       "    <tr>\n",
       "      <th>3</th>\n",
       "      <td>1000048</td>\n",
       "    </tr>\n",
       "    <tr>\n",
       "      <th>4</th>\n",
       "      <td>1000055</td>\n",
       "    </tr>\n",
       "    <tr>\n",
       "      <th>...</th>\n",
       "      <td>...</td>\n",
       "    </tr>\n",
       "    <tr>\n",
       "      <th>502365</th>\n",
       "      <td>6024050</td>\n",
       "    </tr>\n",
       "    <tr>\n",
       "      <th>502366</th>\n",
       "      <td>6024062</td>\n",
       "    </tr>\n",
       "    <tr>\n",
       "      <th>502367</th>\n",
       "      <td>6024077</td>\n",
       "    </tr>\n",
       "    <tr>\n",
       "      <th>502368</th>\n",
       "      <td>6024085</td>\n",
       "    </tr>\n",
       "    <tr>\n",
       "      <th>502369</th>\n",
       "      <td>6024096</td>\n",
       "    </tr>\n",
       "  </tbody>\n",
       "</table>\n",
       "<p>502370 rows × 1 columns</p>\n",
       "</div>"
      ]
     },
     "execution_count": 3,
     "metadata": {},
     "output_type": "execute_result"
    }
   ],
   "execution_count": 3
  },
  {
   "metadata": {
    "ExecuteTime": {
     "end_time": "2024-08-25T14:55:27.195962Z",
     "start_time": "2024-08-25T14:55:27.159054Z"
    }
   },
   "cell_type": "code",
   "source": [
    "shuffle_df = filtered_df.sample(frac=1, random_state=2)"
   ],
   "id": "44b51914ff19f983",
   "outputs": [],
   "execution_count": 4
  },
  {
   "metadata": {
    "ExecuteTime": {
     "end_time": "2024-08-25T14:55:30.703232Z",
     "start_time": "2024-08-25T14:55:30.638885Z"
    }
   },
   "cell_type": "code",
   "source": [
    "output_csv = r'Control Group EIDs Output.csv'\n",
    "sample_df = shuffle_df.sample(n=40000, random_state=42, ignore_index=True)\n",
    "sample_df.to_csv(output_csv, index=False)\n",
    "\n",
    "sample_df"
   ],
   "id": "f0c8af467e0bd405",
   "outputs": [
    {
     "data": {
      "text/plain": [
       "           eid\n",
       "0      6020371\n",
       "1      1931802\n",
       "2      3999073\n",
       "3      2455864\n",
       "4      5848348\n",
       "...        ...\n",
       "39995  3631967\n",
       "39996  2317629\n",
       "39997  4772904\n",
       "39998  2110445\n",
       "39999  2099643\n",
       "\n",
       "[40000 rows x 1 columns]"
      ],
      "text/html": [
       "<div>\n",
       "<style scoped>\n",
       "    .dataframe tbody tr th:only-of-type {\n",
       "        vertical-align: middle;\n",
       "    }\n",
       "\n",
       "    .dataframe tbody tr th {\n",
       "        vertical-align: top;\n",
       "    }\n",
       "\n",
       "    .dataframe thead th {\n",
       "        text-align: right;\n",
       "    }\n",
       "</style>\n",
       "<table border=\"1\" class=\"dataframe\">\n",
       "  <thead>\n",
       "    <tr style=\"text-align: right;\">\n",
       "      <th></th>\n",
       "      <th>eid</th>\n",
       "    </tr>\n",
       "  </thead>\n",
       "  <tbody>\n",
       "    <tr>\n",
       "      <th>0</th>\n",
       "      <td>6020371</td>\n",
       "    </tr>\n",
       "    <tr>\n",
       "      <th>1</th>\n",
       "      <td>1931802</td>\n",
       "    </tr>\n",
       "    <tr>\n",
       "      <th>2</th>\n",
       "      <td>3999073</td>\n",
       "    </tr>\n",
       "    <tr>\n",
       "      <th>3</th>\n",
       "      <td>2455864</td>\n",
       "    </tr>\n",
       "    <tr>\n",
       "      <th>4</th>\n",
       "      <td>5848348</td>\n",
       "    </tr>\n",
       "    <tr>\n",
       "      <th>...</th>\n",
       "      <td>...</td>\n",
       "    </tr>\n",
       "    <tr>\n",
       "      <th>39995</th>\n",
       "      <td>3631967</td>\n",
       "    </tr>\n",
       "    <tr>\n",
       "      <th>39996</th>\n",
       "      <td>2317629</td>\n",
       "    </tr>\n",
       "    <tr>\n",
       "      <th>39997</th>\n",
       "      <td>4772904</td>\n",
       "    </tr>\n",
       "    <tr>\n",
       "      <th>39998</th>\n",
       "      <td>2110445</td>\n",
       "    </tr>\n",
       "    <tr>\n",
       "      <th>39999</th>\n",
       "      <td>2099643</td>\n",
       "    </tr>\n",
       "  </tbody>\n",
       "</table>\n",
       "<p>40000 rows × 1 columns</p>\n",
       "</div>"
      ]
     },
     "execution_count": 5,
     "metadata": {},
     "output_type": "execute_result"
    }
   ],
   "execution_count": 5
  }
 ],
 "metadata": {
  "kernelspec": {
   "display_name": "Python 3",
   "language": "python",
   "name": "python3"
  },
  "language_info": {
   "codemirror_mode": {
    "name": "ipython",
    "version": 2
   },
   "file_extension": ".py",
   "mimetype": "text/x-python",
   "name": "python",
   "nbconvert_exporter": "python",
   "pygments_lexer": "ipython2",
   "version": "2.7.6"
  }
 },
 "nbformat": 4,
 "nbformat_minor": 5
}
